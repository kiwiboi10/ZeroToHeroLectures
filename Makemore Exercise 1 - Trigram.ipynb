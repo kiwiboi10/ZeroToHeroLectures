{
 "cells": [
  {
   "cell_type": "markdown",
   "id": "bf65e705",
   "metadata": {},
   "source": [
    "## Exercise 1"
   ]
  },
  {
   "cell_type": "markdown",
   "id": "9af887ab",
   "metadata": {},
   "source": [
    "**Task:** *Train a trigram language model, i.e. take two characters as an input to predict the 3rd one. Feel free to use either counting or a neural net. Evaluate the loss; Did it improve over a bigram model?*"
   ]
  },
  {
   "cell_type": "code",
   "execution_count": 1,
   "id": "c5118d98",
   "metadata": {},
   "outputs": [],
   "source": [
    "import random\n",
    "import warnings\n",
    "\n",
    "import matplotlib.pyplot as plt\n",
    "import numpy as np\n",
    "import pandas as pd\n",
    "import seaborn as sns\n",
    "import torch\n",
    "import torch.nn.functional as F\n",
    "from tqdm import notebook\n",
    "\n",
    "RANDOM_SEED = 30\n",
    "\n",
    "%matplotlib inline\n",
    "sns.set_theme()"
   ]
  },
  {
   "cell_type": "code",
   "execution_count": 2,
   "id": "c1b2bec0",
   "metadata": {},
   "outputs": [
    {
     "data": {
      "text/plain": [
       "['emma',\n",
       " 'olivia',\n",
       " 'ava',\n",
       " 'isabella',\n",
       " 'sophia',\n",
       " 'charlotte',\n",
       " 'mia',\n",
       " 'amelia',\n",
       " 'harper',\n",
       " 'evelyn']"
      ]
     },
     "execution_count": 2,
     "metadata": {},
     "output_type": "execute_result"
    }
   ],
   "source": [
    "words = open('names.txt', 'r').read().splitlines()\n",
    "words[:10] #slicing the first 10 indexes of the list"
   ]
  },
  {
   "cell_type": "code",
   "execution_count": 3,
   "id": "65d86d1c",
   "metadata": {},
   "outputs": [
    {
     "name": "stdout",
     "output_type": "stream",
     "text": [
      "Number of names: 32,033\n"
     ]
    }
   ],
   "source": [
    "print(f\"Number of names: {len(words):,}\")"
   ]
  },
  {
   "cell_type": "code",
   "execution_count": 4,
   "id": "a49cc170",
   "metadata": {},
   "outputs": [],
   "source": [
    "# Retrieving a set of unique letters\n",
    "chars = sorted(list(set(''.join(words))))\n",
    "\n",
    "# Creating a mapping from a letter to an id\n",
    "char2id = {s: i+1 for i, s in enumerate(chars)}\n",
    "# Adding the start_of_word/end_of_word token => \".\"\n",
    "char2id['.'] = 0\n",
    "\n",
    "# Creating a mapping from an id to letter\n",
    "id2char = {i: s for s, i in char2id.items()}"
   ]
  },
  {
   "cell_type": "code",
   "execution_count": 5,
   "id": "cbd840c2",
   "metadata": {},
   "outputs": [
    {
     "data": {
      "text/plain": [
       "{'a': 1,\n",
       " 'b': 2,\n",
       " 'c': 3,\n",
       " 'd': 4,\n",
       " 'e': 5,\n",
       " 'f': 6,\n",
       " 'g': 7,\n",
       " 'h': 8,\n",
       " 'i': 9,\n",
       " 'j': 10,\n",
       " 'k': 11,\n",
       " 'l': 12,\n",
       " 'm': 13,\n",
       " 'n': 14,\n",
       " 'o': 15,\n",
       " 'p': 16,\n",
       " 'q': 17,\n",
       " 'r': 18,\n",
       " 's': 19,\n",
       " 't': 20,\n",
       " 'u': 21,\n",
       " 'v': 22,\n",
       " 'w': 23,\n",
       " 'x': 24,\n",
       " 'y': 25,\n",
       " 'z': 26,\n",
       " '.': 0}"
      ]
     },
     "execution_count": 5,
     "metadata": {},
     "output_type": "execute_result"
    }
   ],
   "source": [
    "char2id"
   ]
  },
  {
   "cell_type": "code",
   "execution_count": 6,
   "id": "760b715c",
   "metadata": {},
   "outputs": [
    {
     "data": {
      "text/plain": [
       "{1: 'a',\n",
       " 2: 'b',\n",
       " 3: 'c',\n",
       " 4: 'd',\n",
       " 5: 'e',\n",
       " 6: 'f',\n",
       " 7: 'g',\n",
       " 8: 'h',\n",
       " 9: 'i',\n",
       " 10: 'j',\n",
       " 11: 'k',\n",
       " 12: 'l',\n",
       " 13: 'm',\n",
       " 14: 'n',\n",
       " 15: 'o',\n",
       " 16: 'p',\n",
       " 17: 'q',\n",
       " 18: 'r',\n",
       " 19: 's',\n",
       " 20: 't',\n",
       " 21: 'u',\n",
       " 22: 'v',\n",
       " 23: 'w',\n",
       " 24: 'x',\n",
       " 25: 'y',\n",
       " 26: 'z',\n",
       " 0: '.'}"
      ]
     },
     "execution_count": 6,
     "metadata": {},
     "output_type": "execute_result"
    }
   ],
   "source": [
    "id2char"
   ]
  },
  {
   "cell_type": "markdown",
   "id": "a16dd645",
   "metadata": {},
   "source": [
    "## Biagram Model"
   ]
  },
  {
   "cell_type": "code",
   "execution_count": 7,
   "id": "5d407a44",
   "metadata": {},
   "outputs": [],
   "source": [
    "# Creating the dataset\n",
    "\n",
    "X_bigram, Y_bigram = [], []\n",
    "\n",
    "for word in words:\n",
    "    # Adding special token for the start and end of each word\n",
    "    chars = ['.'] + list(word) + ['.']\n",
    "    for char_1, char_2 in zip(chars, chars[1:]):\n",
    "        # Getting the indices of a letter\n",
    "        index_1 = char2id[char_1]\n",
    "        index_2 = char2id[char_2]\n",
    "        \n",
    "        # Adding letter indices to lists\n",
    "        X_bigram.append(index_1)\n",
    "        Y_bigram.append(index_2)\n",
    "    \n",
    "# Changing them to PyTorch tensors\n",
    "X_bigram = torch.tensor(X_bigram)\n",
    "Y_bigram = torch.tensor(Y_bigram)"
   ]
  },
  {
   "cell_type": "code",
   "execution_count": 8,
   "id": "315b4014",
   "metadata": {},
   "outputs": [
    {
     "name": "stdout",
     "output_type": "stream",
     "text": [
      "tensor([ 0,  5, 13,  ..., 25, 26, 24])\n",
      "tensor([ 5, 13, 13,  ..., 26, 24,  0])\n"
     ]
    }
   ],
   "source": [
    "print(X_bigram)\n",
    "print(Y_bigram)"
   ]
  },
  {
   "cell_type": "markdown",
   "id": "ffea2bef",
   "metadata": {},
   "source": [
    "Now, we have a dataset where we know the next letter based on the previous one. "
   ]
  },
  {
   "cell_type": "code",
   "execution_count": 9,
   "id": "558754ec",
   "metadata": {},
   "outputs": [],
   "source": [
    "class BigramModel:\n",
    "    def __init__(\n",
    "        self, \n",
    "        num_features, \n",
    "        num_outputs, \n",
    "        num_epochs, \n",
    "        learning_rate,\n",
    "        logging=False,\n",
    "        regularize=False, \n",
    "        smooth_strength=None, \n",
    "        seed=2147483647,\n",
    "        enable_tqdm=True,\n",
    "        *args,\n",
    "        **kwargs,\n",
    "    ):\n",
    "        \"\"\"Initializes BigramModel instance.\"\"\"\n",
    "        # Creating class attributes\n",
    "        self.num_features = num_features\n",
    "        self.num_outputs = num_outputs\n",
    "        self.num_epochs = num_epochs\n",
    "        self.learning_rate = learning_rate\n",
    "        self.logging = logging\n",
    "        self.regularize = regularize\n",
    "        self.smooth_strength = smooth_strength\n",
    "        self.seed = seed\n",
    "        self.enable_tqdm = enable_tqdm\n",
    "        # Generating random weights based on a random seed\n",
    "        generator = torch.Generator().manual_seed(self.seed)\n",
    "        self.weights = torch.randn((self.num_features, self.num_outputs), generator=generator)\n",
    "        self.weights.requires_grad = True\n",
    "        \n",
    "    def __call__(self, x, y):\n",
    "        \"\"\"Makes a softmax forward pass and computes the NLL loss.\"\"\"\n",
    "        # One-hot encoding NN inputs\n",
    "        x_encoded = F.one_hot(x, num_classes=self.num_outputs).float()\n",
    "        # Computing predictions for log-counts\n",
    "        logits = x_encoded @ self.weights\n",
    "        # Retrieving counts\n",
    "        counts = logits.exp()\n",
    "        # Computing probabilities for the next character\n",
    "        probas = counts / counts.sum(1, keepdims=True)\n",
    "        \n",
    "        # Computing loss (w/wo regularization)\n",
    "        if self.regularize:\n",
    "            if self.smooth_strength is None:\n",
    "                raise ValueError(\"Regularization rate not specified\")\n",
    "            loss = -probas[torch.arange(x.shape[0]), y].log().mean() + self.smooth_strength * (self.weights**2).mean()\n",
    "        else:\n",
    "            if self.smooth_strength is not None:\n",
    "                warnings.warn(\"Specifying regularization rate has no effect\")\n",
    "            loss = -probas[torch.arange(x.shape[0]), y].log().mean()\n",
    "            \n",
    "        return loss\n",
    "    \n",
    "    def fit(self, x, y):\n",
    "        \"\"\"Fits the NN to data.\"\"\"\n",
    "        # Preallocating a dict for storing loss across epochs\n",
    "        loss_per_epoch = {}\n",
    "        # Utilizing a progress bar when training or not\n",
    "        epoch_counter = notebook.tqdm(range(self.num_epochs)) if self.enable_tqdm else range(self.num_epochs)\n",
    "        for k in epoch_counter:\n",
    "            # Making a forward pass and computing a loss\n",
    "            loss = self(x, y)\n",
    "            # Adding a loss computed to the history\n",
    "            loss_per_epoch[f\"epoch_{k+1}\"] = loss.item()\n",
    "            # Logging progress\n",
    "            if self.logging:\n",
    "                print(f\"Epoch {k + 1:03d}/{self.num_epochs:03d}: loss = {loss.item():.4f}\")\n",
    "            \n",
    "            # Setting gradients to zero\n",
    "            self.weights.grad = None\n",
    "            # Making a backward pass (initiating backpropagation)\n",
    "            loss.backward()\n",
    "            \n",
    "            # Updating weights (SGD)\n",
    "            self.weights.data -= self.learning_rate * self.weights.grad\n",
    "        \n",
    "        # Creating an attribute for training history after training\n",
    "        self.history = loss_per_epoch\n",
    "    \n",
    "    def generate_sample(self, num_examples, id2char):\n",
    "        \"\"\"Generates a sample with names from the NN.\"\"\"\n",
    "        generator = torch.Generator().manual_seed(self.seed)\n",
    "        # Preallocating a list for storing generated names\n",
    "        generated_names = []\n",
    "        for i in range(num_examples):\n",
    "            # Preallocating a list for storing letters\n",
    "            out = []\n",
    "            # Starting names generation with \".\"\n",
    "            ix = 0\n",
    "            while True:\n",
    "                # Computing probabilities for the next character\n",
    "                x_encoded = F.one_hot(torch.tensor([ix]), num_classes=self.num_outputs).float()\n",
    "                logits = x_encoded @ self.weights\n",
    "                counts = logits.exp()\n",
    "                probas = counts / counts.sum(1, keepdims=True)\n",
    "                # Retrieving a letter index from the probability distribution\n",
    "                ix = torch.multinomial(\n",
    "                    probas, num_samples=1, replacement=True, generator=generator\n",
    "                ).item()\n",
    "                # Adding the letter to a list\n",
    "                out.append(id2char[ix])\n",
    "                # Iterating until \".\" is encountered\n",
    "                if ix == 0:\n",
    "                    break\n",
    "            \n",
    "            # Joining letters together to compose a word and add to other examples\n",
    "            generated_names.append(''.join(out)[:-1])\n",
    "        \n",
    "        return generated_names"
   ]
  },
  {
   "cell_type": "code",
   "execution_count": 10,
   "id": "dd23f24f",
   "metadata": {},
   "outputs": [
    {
     "data": {
      "application/vnd.jupyter.widget-view+json": {
       "model_id": "1716f28b54ba4ae2b4a03e30a87ab4a9",
       "version_major": 2,
       "version_minor": 0
      },
      "text/plain": [
       "  0%|          | 0/100 [00:00<?, ?it/s]"
      ]
     },
     "metadata": {},
     "output_type": "display_data"
    }
   ],
   "source": [
    "# Instantiating a bigram model\n",
    "bigram_model = BigramModel(\n",
    "    num_features=27, \n",
    "    num_outputs=27,\n",
    "    num_epochs=100, \n",
    "    learning_rate=50, \n",
    "    logging=False, \n",
    "    regularize=True, \n",
    "    smooth_strength=0.01,\n",
    ")\n",
    "\n",
    "# Launching training process\n",
    "bigram_model.fit(X_bigram, Y_bigram)"
   ]
  },
  {
   "cell_type": "code",
   "execution_count": 11,
   "id": "e066caca",
   "metadata": {},
   "outputs": [
    {
     "data": {
      "text/plain": [
       "['junide',\n",
       " 'janasah',\n",
       " 'p',\n",
       " 'cfay',\n",
       " 'a',\n",
       " 'nn',\n",
       " 'kohin',\n",
       " 'tolian',\n",
       " 'juwe',\n",
       " 'kalanaauranilevias']"
      ]
     },
     "execution_count": 11,
     "metadata": {},
     "output_type": "execute_result"
    }
   ],
   "source": [
    "bigram_model.generate_sample(num_examples=10, id2char=id2char)"
   ]
  },
  {
   "cell_type": "markdown",
   "id": "0f3279eb",
   "metadata": {},
   "source": [
    "## Trigram Model"
   ]
  },
  {
   "cell_type": "markdown",
   "id": "7e5cb718",
   "metadata": {},
   "source": [
    "Lets create a dataset that takes the first two characters as the input and uses that information to predict the third character"
   ]
  },
  {
   "cell_type": "code",
   "execution_count": 12,
   "id": "5da63e22",
   "metadata": {},
   "outputs": [],
   "source": [
    "X_trigram, Y_trigram = [], []\n",
    "for word in words:\n",
    "    # Adding special token for each word\n",
    "    chars = ['.'] + list(word) + ['.']\n",
    "    for char_1, char_2, char_3 in zip(chars, chars[1:], chars[2:]):\n",
    "        # Getting the indices of a letter\n",
    "        index_1 = char2id[char_1]\n",
    "        index_2 = char2id[char_2]\n",
    "        index_3 = char2id[char_3]\n",
    "        \n",
    "        # Adding letter indices to lists\n",
    "        X_trigram.append([index_1, index_2])\n",
    "        Y_trigram.append(index_3)\n",
    "\n",
    "# Casting as PyTorch tensors\n",
    "X_trigram = torch.tensor(X_trigram)\n",
    "Y_trigram = torch.tensor(Y_trigram)"
   ]
  },
  {
   "cell_type": "code",
   "execution_count": 13,
   "id": "7e34f717",
   "metadata": {},
   "outputs": [
    {
     "name": "stdout",
     "output_type": "stream",
     "text": [
      "tensor([[ 0,  5],\n",
      "        [ 5, 13],\n",
      "        [13, 13],\n",
      "        ...,\n",
      "        [26, 25],\n",
      "        [25, 26],\n",
      "        [26, 24]])\n",
      "tensor([13, 13,  1,  ..., 26, 24,  0])\n"
     ]
    }
   ],
   "source": [
    "print(X_trigram)\n",
    "print(Y_trigram)"
   ]
  },
  {
   "cell_type": "code",
   "execution_count": 14,
   "id": "2ffa8344",
   "metadata": {},
   "outputs": [],
   "source": [
    "class TrigramModel(BigramModel):\n",
    "    def __init__(self, *args, **kwargs):\n",
    "        \"\"\"Inherits initialization schema from BigramModel class.\"\"\"\n",
    "        super().__init__(*args, **kwargs)\n",
    "    \n",
    "    def __call__(self, x, y):\n",
    "        \"\"\"Makes a softmax forward pass and computes the NLL loss.\"\"\"\n",
    "        x_encoded = F.one_hot(x, num_classes=self.num_outputs).float().view(-1, self.num_features)\n",
    "        logits = x_encoded @ self.weights # predict log-counts\n",
    "        counts = logits.exp() # counts, equivalent to N\n",
    "        probas = counts / counts.sum(1, keepdims=True) # probabilities for next character\n",
    "        \n",
    "        if self.regularize:\n",
    "            if self.smooth_strength is None:\n",
    "                raise ValueError(\"Regularization rate not specified\")\n",
    "            loss = -probas[torch.arange(x.shape[0]), y].log().mean() + self.smooth_strength * (self.weights**2).mean()\n",
    "        else:\n",
    "            if self.smooth_strength is not None:\n",
    "                warnings.warn(\"Specifying regularization rate has no effect.\")\n",
    "            loss = -probas[torch.arange(x.shape[0]), y].log().mean()\n",
    "            \n",
    "        return loss\n",
    "    \n",
    "    def generate_sample(self, num_examples, id2char):\n",
    "        \"\"\"Generates a sample with names from the NN.\"\"\"\n",
    "        generator = torch.Generator().manual_seed(self.seed)\n",
    "        generated_names = []\n",
    "        for i in range(num_examples):\n",
    "            out = []\n",
    "            # Initializing the starting sequence\n",
    "            context = [0, 0] \n",
    "            while True:\n",
    "                x_encoded = F.one_hot(torch.tensor([context]), num_classes=self.num_outputs).float().view(1, -1)\n",
    "                logits = x_encoded @ self.weights\n",
    "                counts = logits.exp()\n",
    "                probas = counts / counts.sum(1, keepdims=True)\n",
    "                \n",
    "                ix = torch.multinomial(\n",
    "                    probas, num_samples=1, replacement=True, generator=generator\n",
    "                ).item()\n",
    "                # Adding the predicted character and shifting\n",
    "                context = context[1:] + [ix]\n",
    "                out.append(id2char[ix])\n",
    "                if ix == 0:\n",
    "                    break\n",
    "                    \n",
    "            generated_names.append(''.join(out)[:-1])\n",
    "        \n",
    "        return generated_names"
   ]
  },
  {
   "cell_type": "code",
   "execution_count": 15,
   "id": "47b47016",
   "metadata": {},
   "outputs": [
    {
     "data": {
      "application/vnd.jupyter.widget-view+json": {
       "model_id": "1a043209b69c45558f9ae415fbc7b254",
       "version_major": 2,
       "version_minor": 0
      },
      "text/plain": [
       "  0%|          | 0/100 [00:00<?, ?it/s]"
      ]
     },
     "metadata": {},
     "output_type": "display_data"
    }
   ],
   "source": [
    "# Instantiating a trigram model\n",
    "trigram_model = TrigramModel(\n",
    "    num_features=54, \n",
    "    num_outputs=27,\n",
    "    num_epochs=100, \n",
    "    learning_rate=50, \n",
    "    logging=False, \n",
    "    regularize=True, \n",
    "    smooth_strength=0.01,\n",
    ")\n",
    "\n",
    "# Launching training process\n",
    "trigram_model.fit(X_trigram, Y_trigram)"
   ]
  },
  {
   "cell_type": "code",
   "execution_count": 16,
   "id": "8399168d",
   "metadata": {},
   "outputs": [
    {
     "data": {
      "text/plain": [
       "['aunide',\n",
       " 'aliasad',\n",
       " 'ushfay',\n",
       " 'ainn',\n",
       " 'aui',\n",
       " 'ritoleras',\n",
       " 'get',\n",
       " 'usannaauranileniassibdainrwi',\n",
       " 'ol',\n",
       " 'seisiely']"
      ]
     },
     "execution_count": 16,
     "metadata": {},
     "output_type": "execute_result"
    }
   ],
   "source": [
    "trigram_model.generate_sample(num_examples=10, id2char=id2char)"
   ]
  },
  {
   "cell_type": "markdown",
   "id": "641acef8",
   "metadata": {},
   "source": [
    "### Comparison"
   ]
  },
  {
   "cell_type": "code",
   "execution_count": 17,
   "id": "2f20216e",
   "metadata": {},
   "outputs": [
    {
     "data": {
      "image/png": "[encoded data removed]",
      "text/plain": [
       "<Figure size 432x288 with 1 Axes>"
      ]
     },
     "metadata": {},
     "output_type": "display_data"
    }
   ],
   "source": [
    "# Losses obtained during training bigram/trigram models\n",
    "loss_histories = {\n",
    "    \"Bigram\": bigram_model.history.values(),\n",
    "    \"Trigram\": trigram_model.history.values(),\n",
    "}\n",
    "\n",
    "# Joining results in a DataFrame\n",
    "comparison_df = pd.DataFrame(loss_histories)\n",
    "\n",
    "# Plotting the comparison\n",
    "comparison_df.plot()\n",
    "plt.xlabel(\"Epoch\")\n",
    "plt.ylabel(\"NLL Loss\")\n",
    "plt.title(\"NLL loss comparison\", fontsize=16)\n",
    "plt.tight_layout()\n",
    "plt.show()"
   ]
  },
  {
   "cell_type": "markdown",
   "id": "015e29c5",
   "metadata": {},
   "source": [
    "### Exercise 2"
   ]
  },
  {
   "cell_type": "markdown",
   "id": "07acb44e",
   "metadata": {},
   "source": [
    "Task: Split up the dataset randomly into 80% train set, 10% dev set, 10% test set. Train the bigram and trigram models only on the training set. Evaluate them on dev and test splits. What can you see?"
   ]
  },
  {
   "cell_type": "code",
   "execution_count": 22,
   "id": "96ba3445",
   "metadata": {},
   "outputs": [
    {
     "data": {
      "text/plain": [
       "32033"
      ]
     },
     "execution_count": 22,
     "metadata": {},
     "output_type": "execute_result"
    }
   ],
   "source": [
    "len(words)"
   ]
  },
  {
   "cell_type": "code",
   "execution_count": 27,
   "id": "78694e9e",
   "metadata": {},
   "outputs": [
    {
     "name": "stdout",
     "output_type": "stream",
     "text": [
      "Training set: 0-25625\n",
      "Development set: 25626-28828\n",
      "Testing set: 28829-32033\n"
     ]
    }
   ],
   "source": [
    "random.seed(42)\n",
    "random.shuffle(words)\n",
    "\n",
    "cutoff_train = int(0.8 * len(words))\n",
    "cutoff_dev = int(0.9 * len(words))\n",
    "\n",
    "print(f\"Training set: {0}-{cutoff_train - 1}\")\n",
    "print(f\"Development set: {cutoff_train}-{cutoff_dev - 1}\")\n",
    "print(f\"Testing set: {cutoff_dev}-{len(words)}\")"
   ]
  },
  {
   "cell_type": "code",
   "execution_count": 32,
   "id": "a7c4e37b",
   "metadata": {},
   "outputs": [
    {
     "name": "stdout",
     "output_type": "stream",
     "text": [
      "Training set examples: 25,626 (80%)\n",
      "Development set examples: 3,203 (10%)\n",
      "Testing set examples: 3,204 (10%)\n"
     ]
    }
   ],
   "source": [
    "# Allocating shuffled words into three sets\n",
    "words_train = words[:cutoff_train]\n",
    "words_dev = words[cutoff_train:cutoff_dev]\n",
    "words_test = words[cutoff_dev:]\n",
    "\n",
    "print(f\"Training set examples: {len(words_train):,} ({len(words_train)/len(words):.0%})\")\n",
    "print(f\"Development set examples: {len(words_dev):,} ({len(words_dev)/len(words):.0%})\")\n",
    "print(f\"Testing set examples: {len(words_test):,} ({len(words_test)/len(words):.0%})\")"
   ]
  },
  {
   "cell_type": "code",
   "execution_count": 69,
   "id": "bcf1e363",
   "metadata": {},
   "outputs": [],
   "source": [
    "def build_datasets(words, train_set=0.8, dev_set=0.1, test_set=0.1, context_size=2, seed=42):\n",
    "    \"\"\"\n",
    "    Splits words into train, dev, and test datasets with N-gram context.\n",
    "\n",
    "    Args:\n",
    "        words (list): List of words.\n",
    "        train_set (float): Fraction of words to use for training.\n",
    "        dev_set (float): Fraction of words to use for validation.\n",
    "        test_set (float): Fraction of words to use for testing.\n",
    "        context_size (int): Number of previous characters to consider as context.\n",
    "        seed (int): Random seed for reproducibility.\n",
    "\n",
    "    Returns:\n",
    "        (tuple): X_train, Y_train, X_dev, Y_dev, X_test, Y_test as torch tensors.\n",
    "    \"\"\"\n",
    "    if not (0 <= train_set <= 1 and 0 <= dev_set <= 1 and 0 <= test_set <= 1):\n",
    "        raise ValueError(\"Error: train_set, dev_set, and test_set must be between 0 and 1.\")\n",
    "    \n",
    "    if train_set + dev_set + test_set != 1:\n",
    "        raise ValueError(\"Error: The fractions assigned to train, dev, and test must add up to 1.\")\n",
    "\n",
    "    random.seed(seed)\n",
    "    random.shuffle(words)\n",
    "\n",
    "    train_end = int(train_set * len(words))\n",
    "    dev_end = train_end + int(dev_set * len(words))\n",
    "\n",
    "    train_words, dev_words, test_words = words[:train_end], words[train_end:dev_end], words[dev_end:]\n",
    "\n",
    "    def process_dataset(word_list, context_size):\n",
    "        X, Y = [], []\n",
    "        for word in word_list:\n",
    "        # Creating a starting examples depending on block size\n",
    "            context = [0] * context_size\n",
    "            # Iterating through entire word with end of word token\n",
    "            for char in word + '.':\n",
    "                index = char2id[char]\n",
    "                X.append(context)\n",
    "                Y.append(index)\n",
    "                # Adding the character index and shifting\n",
    "                context = context[1:] + [index]\n",
    "                \n",
    "        if context_size == 1:\n",
    "            X = torch.tensor(X).view(-1)\n",
    "        else:\n",
    "            X = torch.tensor(X)\n",
    "        \n",
    "        return X, torch.tensor(Y, dtype=torch.long)  \n",
    "\n",
    "    X_train, Y_train = process_dataset(train_words, context_size)\n",
    "    X_dev, Y_dev = process_dataset(dev_words, context_size)\n",
    "    X_test, Y_test = process_dataset(test_words, context_size)\n",
    "\n",
    "    return X_train, Y_train, X_dev, Y_dev, X_test, Y_test"
   ]
  },
  {
   "cell_type": "code",
   "execution_count": 70,
   "id": "52288e21",
   "metadata": {},
   "outputs": [],
   "source": [
    "Trigram_datasets = build_datasets(words)\n",
    "Bigram_datasets = build_datasets(words, context_size=1)"
   ]
  },
  {
   "cell_type": "code",
   "execution_count": 72,
   "id": "ee190aac",
   "metadata": {},
   "outputs": [
    {
     "data": {
      "application/vnd.jupyter.widget-view+json": {
       "model_id": "7945dcdbffe64fa8b30e84a83026dda1",
       "version_major": 2,
       "version_minor": 0
      },
      "text/plain": [
       "  0%|          | 0/100 [00:00<?, ?it/s]"
      ]
     },
     "metadata": {},
     "output_type": "display_data"
    }
   ],
   "source": [
    "### Trigram Training\n",
    "\n",
    "X_train, Y_train, X_dev, Y_dev, X_test, Y_test = Trigram_datasets\n",
    "\n",
    "trigram_model = TrigramModel(\n",
    "    num_features=54, \n",
    "    num_outputs=27,\n",
    "    num_epochs=100, \n",
    "    learning_rate=50, \n",
    "    logging=False, \n",
    "    regularize=True, \n",
    "    smooth_strength=0.01,\n",
    ")\n",
    "\n",
    "# Launching training process\n",
    "trigram_model.fit(X_train, Y_train)"
   ]
  },
  {
   "cell_type": "code",
   "execution_count": 74,
   "id": "3ab269a9",
   "metadata": {},
   "outputs": [
    {
     "name": "stdout",
     "output_type": "stream",
     "text": [
      "Train loss: 2.3940\n",
      "Dev loss: 2.3928\n",
      "Test loss: 2.4013\n"
     ]
    }
   ],
   "source": [
    "trigram_train_loss = trigram_model(X_train, Y_train).item()\n",
    "trigram_dev_loss = trigram_model(X_dev, Y_dev).item()\n",
    "trigram_test_loss = trigram_model(X_test, Y_test).item()\n",
    "\n",
    "print(f\"Train loss: {trigram_train_loss:.4f}\")\n",
    "print(f\"Dev loss: {trigram_dev_loss:.4f}\")\n",
    "print(f\"Test loss: {trigram_test_loss:.4f}\")"
   ]
  },
  {
   "cell_type": "code",
   "execution_count": 75,
   "id": "f20a9df4",
   "metadata": {},
   "outputs": [
    {
     "data": {
      "application/vnd.jupyter.widget-view+json": {
       "model_id": "353a3614560046bab1a99c05b34113c9",
       "version_major": 2,
       "version_minor": 0
      },
      "text/plain": [
       "  0%|          | 0/100 [00:00<?, ?it/s]"
      ]
     },
     "metadata": {},
     "output_type": "display_data"
    }
   ],
   "source": [
    "### Bigram  Training\n",
    "\n",
    "X_train, Y_train, X_dev, Y_dev, X_test, Y_test = Bigram_datasets\n",
    "\n",
    "bigram_model = BigramModel(\n",
    "    num_features=27, \n",
    "    num_outputs=27,\n",
    "    num_epochs=100, \n",
    "    learning_rate=50, \n",
    "    logging=False, \n",
    "    regularize=True, \n",
    "    smooth_strength=0.01,\n",
    ")\n",
    "\n",
    "# Launching training process\n",
    "bigram_model.fit(X_train, Y_train)"
   ]
  },
  {
   "cell_type": "code",
   "execution_count": 76,
   "id": "10cebd12",
   "metadata": {},
   "outputs": [
    {
     "name": "stdout",
     "output_type": "stream",
     "text": [
      "Train loss: 2.4902\n",
      "Dev loss: 2.4898\n",
      "Test loss: 2.4895\n"
     ]
    }
   ],
   "source": [
    "bigram_train_loss = bigram_model(X_train, Y_train).item()\n",
    "bigram_dev_loss = bigram_model(X_dev, Y_dev).item()\n",
    "bigram_test_loss = bigram_model(X_test, Y_test).item()\n",
    "\n",
    "print(f\"Train loss: {bigram_train_loss:.4f}\")\n",
    "print(f\"Dev loss: {bigram_dev_loss:.4f}\")\n",
    "print(f\"Test loss: {bigram_test_loss:.4f}\")"
   ]
  },
  {
   "cell_type": "code",
   "execution_count": 79,
   "id": "2c8e9021",
   "metadata": {},
   "outputs": [
    {
     "data": {
      "text/html": [
       "<div>\n",
       "<style scoped>\n",
       "    .dataframe tbody tr th:only-of-type {\n",
       "        vertical-align: middle;\n",
       "    }\n",
       "\n",
       "    .dataframe tbody tr th {\n",
       "        vertical-align: top;\n",
       "    }\n",
       "\n",
       "    .dataframe thead th {\n",
       "        text-align: right;\n",
       "    }\n",
       "</style>\n",
       "<table border=\"1\" class=\"dataframe\">\n",
       "  <thead>\n",
       "    <tr style=\"text-align: right;\">\n",
       "      <th></th>\n",
       "      <th>bigram_loss</th>\n",
       "      <th>trigram_loss</th>\n",
       "    </tr>\n",
       "  </thead>\n",
       "  <tbody>\n",
       "    <tr>\n",
       "      <th>train</th>\n",
       "      <td>2.4902</td>\n",
       "      <td>2.3940</td>\n",
       "    </tr>\n",
       "    <tr>\n",
       "      <th>dev</th>\n",
       "      <td>2.4898</td>\n",
       "      <td>2.3928</td>\n",
       "    </tr>\n",
       "    <tr>\n",
       "      <th>test</th>\n",
       "      <td>2.4895</td>\n",
       "      <td>2.4013</td>\n",
       "    </tr>\n",
       "  </tbody>\n",
       "</table>\n",
       "</div>"
      ],
      "text/plain": [
       "       bigram_loss  trigram_loss\n",
       "train       2.4902        2.3940\n",
       "dev         2.4898        2.3928\n",
       "test        2.4895        2.4013"
      ]
     },
     "execution_count": 79,
     "metadata": {},
     "output_type": "execute_result"
    }
   ],
   "source": [
    "losses = {\n",
    "    \"bigram_loss\": [bigram_train_loss, bigram_dev_loss, bigram_test_loss],\n",
    "    \"trigram_loss\": [trigram_train_loss, trigram_dev_loss, trigram_test_loss]\n",
    "}\n",
    "\n",
    "index = [\"train\", \"dev\", \"test\"]\n",
    "loss_set_df = pd.DataFrame(losses, index=index).round(4)\n",
    "loss_set_df"
   ]
  },
  {
   "cell_type": "code",
   "execution_count": 80,
   "id": "2eec80e8",
   "metadata": {},
   "outputs": [
    {
     "data": {
      "image/png": "[encoded data removed]",
      "text/plain": [
       "<Figure size 432x288 with 1 Axes>"
      ]
     },
     "metadata": {},
     "output_type": "display_data"
    }
   ],
   "source": [
    "# Losses obtained during training bigram/trigram models\n",
    "loss_histories = {\n",
    "    \"Bigram\": bigram_model.history.values(),\n",
    "    \"Trigram\": trigram_model.history.values(),\n",
    "}\n",
    "\n",
    "# Joining results in a DataFrame\n",
    "comparison_df = pd.DataFrame(loss_histories)\n",
    "\n",
    "# Plotting the comparison\n",
    "comparison_df.plot()\n",
    "plt.xlabel(\"Epoch\")\n",
    "plt.ylabel(\"NLL Loss\")\n",
    "plt.title(\"NLL loss comparison (training set)\", fontsize=16)\n",
    "plt.tight_layout()\n",
    "plt.show()"
   ]
  },
  {
   "cell_type": "code",
   "execution_count": 87,
   "id": "92eadd83",
   "metadata": {},
   "outputs": [
    {
     "data": {
      "application/vnd.jupyter.widget-view+json": {
       "model_id": "c2c48ac4b7384f18afeb8746bbff4863",
       "version_major": 2,
       "version_minor": 0
      },
      "text/plain": [
       "  0%|          | 0/100 [00:00<?, ?it/s]"
      ]
     },
     "metadata": {},
     "output_type": "display_data"
    },
    {
     "data": {
      "application/vnd.jupyter.widget-view+json": {
       "model_id": "7f884a098c8341b5a4809eb49f95e015",
       "version_major": 2,
       "version_minor": 0
      },
      "text/plain": [
       "  0%|          | 0/100 [00:00<?, ?it/s]"
      ]
     },
     "metadata": {},
     "output_type": "display_data"
    },
    {
     "data": {
      "application/vnd.jupyter.widget-view+json": {
       "model_id": "945bcf1fb65044c7a4aeac8836d3e491",
       "version_major": 2,
       "version_minor": 0
      },
      "text/plain": [
       "  0%|          | 0/100 [00:00<?, ?it/s]"
      ]
     },
     "metadata": {},
     "output_type": "display_data"
    },
    {
     "data": {
      "application/vnd.jupyter.widget-view+json": {
       "model_id": "4592c75faa824fb08489aa0a3016ef6a",
       "version_major": 2,
       "version_minor": 0
      },
      "text/plain": [
       "  0%|          | 0/100 [00:00<?, ?it/s]"
      ]
     },
     "metadata": {},
     "output_type": "display_data"
    },
    {
     "data": {
      "application/vnd.jupyter.widget-view+json": {
       "model_id": "69da47d25ec8421e94c8bdef52b0842a",
       "version_major": 2,
       "version_minor": 0
      },
      "text/plain": [
       "  0%|          | 0/100 [00:00<?, ?it/s]"
      ]
     },
     "metadata": {},
     "output_type": "display_data"
    },
    {
     "data": {
      "image/png": "[encoded data removed]",
      "text/plain": [
       "<Figure size 432x288 with 1 Axes>"
      ]
     },
     "metadata": {},
     "output_type": "display_data"
    }
   ],
   "source": [
    "test_loss = []  \n",
    "loss_histories = {}  \n",
    "models = {}  \n",
    "\n",
    "for i in range(1, 6): \n",
    "    datasets = build_datasets(words, context_size=i)\n",
    "    X_train, Y_train, X_dev, Y_dev, X_test, Y_test = datasets\n",
    "\n",
    "    model = TrigramModel(\n",
    "        num_features=27 * i,  \n",
    "        num_outputs=27,\n",
    "        num_epochs=100,  \n",
    "        learning_rate=50,  \n",
    "        logging=False,  \n",
    "        regularize=True,  \n",
    "        smooth_strength=0.01\n",
    "    )\n",
    "\n",
    "    model.fit(X_train, Y_train)\n",
    "\n",
    "    loss = model(X_test, Y_test).item()\n",
    "    test_loss.append(loss)\n",
    "\n",
    "    models[f\"Model_{i}gram\"] = model\n",
    "    loss_histories[f\"{i}-gram\"] = list(model.history.values())\n",
    "\n",
    "comparison_df = pd.DataFrame(loss_histories)\n",
    "\n",
    "# ✅ Plot the losses\n",
    "comparison_df.plot()\n",
    "plt.xlabel(\"Epoch\")\n",
    "plt.ylabel(\"NLL Loss\")\n",
    "plt.title(\"NLL loss comparison (training set)\", fontsize=16)\n",
    "plt.tight_layout()\n",
    "plt.show()"
   ]
  },
  {
   "cell_type": "code",
   "execution_count": null,
   "id": "1d0faae7",
   "metadata": {},
   "outputs": [],
   "source": []
  }
 ],
 "metadata": {
  "kernelspec": {
   "display_name": "Python 3 (ipykernel)",
   "language": "python",
   "name": "python3"
  },
  "language_info": {
   "codemirror_mode": {
    "name": "ipython",
    "version": 3
   },
   "file_extension": ".py",
   "mimetype": "text/x-python",
   "name": "python",
   "nbconvert_exporter": "python",
   "pygments_lexer": "ipython3",
   "version": "3.9.12"
  }
 },
 "nbformat": 4,
 "nbformat_minor": 5
}
